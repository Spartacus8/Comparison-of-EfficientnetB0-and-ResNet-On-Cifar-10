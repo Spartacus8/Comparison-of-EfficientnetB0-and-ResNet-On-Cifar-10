{
  "nbformat": 4,
  "nbformat_minor": 0,
  "metadata": {
    "colab": {
      "provenance": []
    },
    "kernelspec": {
      "name": "python3",
      "display_name": "Python 3"
    },
    "language_info": {
      "name": "python"
    }
  },
  "cells": [
    {
      "cell_type": "code",
      "execution_count": 1,
      "metadata": {
        "colab": {
          "base_uri": "https://localhost:8080/"
        },
        "id": "FHtHAKBELbYN",
        "outputId": "233406ac-64f2-4814-9267-4b3d6437c024"
      },
      "outputs": [
        {
          "output_type": "stream",
          "name": "stdout",
          "text": [
            "Downloading data from https://www.cs.toronto.edu/~kriz/cifar-10-python.tar.gz\n",
            "170498071/170498071 [==============================] - 2s 0us/step\n",
            "Accuracy: 0.4638\n"
          ]
        }
      ],
      "source": [
        "import numpy as np\n",
        "from sklearn.ensemble import RandomForestClassifier\n",
        "from sklearn.metrics import accuracy_score\n",
        "from keras.datasets import cifar10\n",
        "\n",
        "# Load the CIFAR-10 dataset\n",
        "(train_images, train_labels), (test_images, test_labels) = cifar10.load_data()\n",
        "\n",
        "# Flatten the image data\n",
        "train_images = train_images.reshape(-1, 32*32*3)\n",
        "test_images = test_images.reshape(-1, 32*32*3)\n",
        "\n",
        "# Flatten the label data\n",
        "train_labels = train_labels.ravel()\n",
        "test_labels = test_labels.ravel()\n",
        "\n",
        "# Create and train the Random Forest model\n",
        "rf = RandomForestClassifier(n_estimators=100)\n",
        "rf.fit(train_images, train_labels)\n",
        "\n",
        "# Use the model to predict\n",
        "pred_labels = rf.predict(test_images)\n",
        "\n",
        "# Calculate and print the accuracy\n",
        "accuracy = accuracy_score(test_labels, pred_labels)\n",
        "print('Accuracy:', accuracy)"
      ]
    }
  ]
}